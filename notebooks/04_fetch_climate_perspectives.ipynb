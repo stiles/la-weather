{
 "cells": [
  {
   "cell_type": "markdown",
   "id": "77ab12ec-6a2c-4fd8-8b1a-45b8e69448cb",
   "metadata": {},
   "source": [
    "# SERCC: Temperature records\n",
    "> This notebook fetches and process data about temperature rankings, percentiles and departure from norm for hundreds of weather stations each day from the [SERCC](https://sercc.oasis.unc.edu/Map.php?region=conus). API feeds [this website](https://sercc.oasis.unc.edu/Map.php?region=conus&), which have many variables (including precipitation) that can offer ideas for adapting the API requests below. "
   ]
  },
  {
   "cell_type": "markdown",
   "id": "277c96d0-48d1-4944-8f3d-369979dbae0c",
   "metadata": {},
   "source": [
    "---"
   ]
  },
  {
   "cell_type": "markdown",
   "id": "b26f152f-1b2c-4231-9752-4ecbe64c4e6a",
   "metadata": {},
   "source": [
    "#### Import Python tools and Jupyter config"
   ]
  },
  {
   "cell_type": "code",
   "execution_count": 1,
   "id": "27cdbea4-067e-40fe-8a0e-52d79145a835",
   "metadata": {},
   "outputs": [],
   "source": [
    "import us\n",
    "import json\n",
    "import requests\n",
    "import pandas as pd\n",
    "import jupyter_black\n",
    "import altair as alt\n",
    "import geopandas as gpd\n",
    "from tqdm.notebook import tqdm\n",
    "from datetime import datetime, timedelta"
   ]
  },
  {
   "cell_type": "code",
   "execution_count": 2,
   "id": "890c26c6-a7d4-42ff-8d19-ef0d8d6cfb5b",
   "metadata": {
    "tags": []
   },
   "outputs": [
    {
     "data": {
      "text/html": [
       "\n",
       "                <script type=\"application/javascript\" id=\"jupyter_black\">\n",
       "                (function() {\n",
       "                    if (window.IPython === undefined) {\n",
       "                        return\n",
       "                    }\n",
       "                    var msg = \"WARNING: it looks like you might have loaded \" +\n",
       "                        \"jupyter_black in a non-lab notebook with \" +\n",
       "                        \"`is_lab=True`. Please double check, and if \" +\n",
       "                        \"loading with `%load_ext` please review the README!\"\n",
       "                    console.log(msg)\n",
       "                    alert(msg)\n",
       "                })()\n",
       "                </script>\n",
       "                "
      ],
      "text/plain": [
       "<IPython.core.display.HTML object>"
      ]
     },
     "metadata": {},
     "output_type": "display_data"
    }
   ],
   "source": [
    "jupyter_black.load()\n",
    "pd.options.display.max_columns = 100\n",
    "pd.options.display.max_rows = 100\n",
    "pd.options.display.max_colwidth = None"
   ]
  },
  {
   "cell_type": "code",
   "execution_count": 3,
   "id": "d587b99e-fe06-4372-b3b4-d64e927998a9",
   "metadata": {
    "tags": []
   },
   "outputs": [],
   "source": [
    "today = pd.Timestamp(\"today\").strftime(\"%Y-%m-%d\")\n",
    "yesterday = (pd.Timestamp(\"today\") - timedelta(days=1)).strftime(\"%Y-%m-%d\")"
   ]
  },
  {
   "cell_type": "markdown",
   "id": "fd4c08bc-ce9c-49b0-af2e-877593871769",
   "metadata": {},
   "source": [
    "---"
   ]
  },
  {
   "cell_type": "markdown",
   "id": "0028268b-647d-46db-8dbf-2f3ccf9a0651",
   "metadata": {},
   "source": [
    "## Fetch"
   ]
  },
  {
   "cell_type": "code",
   "execution_count": 4,
   "id": "791ed97d-d8e7-4f62-a58c-bfedab674c04",
   "metadata": {},
   "outputs": [],
   "source": [
    "# Previously downloaded, Jan. 1, 2023 to May 30, 2024:\n",
    "# https://ix-cnn-io-prod.s3.amazonaws.com/data/weather/records/sercc_climate_perspectives_records_archive.json"
   ]
  },
  {
   "cell_type": "markdown",
   "id": "0e88ea7b-767d-4d28-9c05-0ad7e3cb61c7",
   "metadata": {},
   "source": [
    "#### Headers for request"
   ]
  },
  {
   "cell_type": "code",
   "execution_count": 5,
   "id": "d7224328-3bcb-4a52-80a7-823e348487df",
   "metadata": {},
   "outputs": [],
   "source": [
    "headers = {\n",
    "    \"User-Agent\": \"Mozilla/5.0 (Macintosh; Intel Mac OS X 10_15_7) AppleWebKit/537.36 (KHTML, like Gecko) Chrome/124.0.0.0 Safari/537.36\",\n",
    "}"
   ]
  },
  {
   "cell_type": "markdown",
   "id": "4a574dc1-b483-416e-9312-13a69189a3f5",
   "metadata": {},
   "source": [
    "#### Define the date range"
   ]
  },
  {
   "cell_type": "code",
   "execution_count": 6,
   "id": "2db2ddc1-09ba-45de-8951-f0d925632673",
   "metadata": {},
   "outputs": [],
   "source": [
    "start = \"2022-08-01\"\n",
    "start_date = datetime.strptime(start, \"%Y-%m-%d\")\n",
    "end = \"2024-08-01\"\n",
    "end_date = datetime.strptime(end, \"%Y-%m-%d\")\n",
    "date_range = [\n",
    "    start_date + timedelta(days=x) for x in range((end_date - start_date).days + 1)\n",
    "]\n",
    "variables = [\"mint\", \"maxt\", \"avgt\", \"precip\"]"
   ]
  },
  {
   "cell_type": "markdown",
   "id": "f3db3aa4-36e2-4492-b742-02748d64f3ab",
   "metadata": {},
   "source": [
    "#### Temperature rankings from [SERCC](https://sercc.oasis.unc.edu/Map.php?region=conus)"
   ]
  },
  {
   "cell_type": "code",
   "execution_count": 7,
   "id": "0181d7d1-7429-41f2-ba78-eea532a2bb0b",
   "metadata": {},
   "outputs": [
    {
     "data": {
      "application/vnd.jupyter.widget-view+json": {
       "model_id": "1483261820054541a14b523e7b8c9f5f",
       "version_major": 2,
       "version_minor": 0
      },
      "text/plain": [
       "  0%|          | 0/4 [00:00<?, ?it/s]"
      ]
     },
     "metadata": {},
     "output_type": "display_data"
    },
    {
     "data": {
      "application/vnd.jupyter.widget-view+json": {
       "model_id": "b2b6521cee444310aa6e8d8a97ced98e",
       "version_major": 2,
       "version_minor": 0
      },
      "text/plain": [
       "  0%|          | 0/732 [00:00<?, ?it/s]"
      ]
     },
     "metadata": {},
     "output_type": "display_data"
    },
    {
     "data": {
      "application/vnd.jupyter.widget-view+json": {
       "model_id": "deff6a046e13496fb49424ab824a9ae0",
       "version_major": 2,
       "version_minor": 0
      },
      "text/plain": [
       "  0%|          | 0/732 [00:00<?, ?it/s]"
      ]
     },
     "metadata": {},
     "output_type": "display_data"
    },
    {
     "ename": "KeyError",
     "evalue": "\"['id', 'city', 'state', 'value', 'rank', 'ranktext', 'dfnlabel', 'dfn', 'lat', 'lon'] not in index\"",
     "output_type": "error",
     "traceback": [
      "\u001b[0;31m---------------------------------------------------------------------------\u001b[0m",
      "\u001b[0;31mKeyError\u001b[0m                                  Traceback (most recent call last)",
      "Cell \u001b[0;32mIn[7], line 25\u001b[0m\n\u001b[1;32m     16\u001b[0m response \u001b[38;5;241m=\u001b[39m requests\u001b[38;5;241m.\u001b[39mget(\n\u001b[1;32m     17\u001b[0m     \u001b[38;5;124m\"\u001b[39m\u001b[38;5;124mhttps://sercc.oasis.unc.edu/climpermap_json.php\u001b[39m\u001b[38;5;124m\"\u001b[39m,\n\u001b[1;32m     18\u001b[0m     params\u001b[38;5;241m=\u001b[39mparams,\n\u001b[1;32m     19\u001b[0m     headers\u001b[38;5;241m=\u001b[39mheaders,\n\u001b[1;32m     20\u001b[0m )\n\u001b[1;32m     22\u001b[0m json_data \u001b[38;5;241m=\u001b[39m response\u001b[38;5;241m.\u001b[39mjson()[\u001b[38;5;124m\"\u001b[39m\u001b[38;5;124mdata\u001b[39m\u001b[38;5;124m\"\u001b[39m]\n\u001b[1;32m     24\u001b[0m src \u001b[38;5;241m=\u001b[39m (\n\u001b[0;32m---> 25\u001b[0m     \u001b[43mpd\u001b[49m\u001b[38;5;241;43m.\u001b[39;49m\u001b[43mDataFrame\u001b[49m\u001b[38;5;241;43m.\u001b[39;49m\u001b[43mfrom_dict\u001b[49m\u001b[43m(\u001b[49m\u001b[43mjson_data\u001b[49m\u001b[43m,\u001b[49m\u001b[43m \u001b[49m\u001b[43morient\u001b[49m\u001b[38;5;241;43m=\u001b[39;49m\u001b[38;5;124;43m\"\u001b[39;49m\u001b[38;5;124;43mindex\u001b[39;49m\u001b[38;5;124;43m\"\u001b[39;49m\u001b[43m)\u001b[49m\n\u001b[1;32m     26\u001b[0m \u001b[43m    \u001b[49m\u001b[38;5;241;43m.\u001b[39;49m\u001b[43massign\u001b[49m\u001b[43m(\u001b[49m\u001b[43mdate\u001b[49m\u001b[38;5;241;43m=\u001b[39;49m\u001b[43mparams\u001b[49m\u001b[43m[\u001b[49m\u001b[38;5;124;43m\"\u001b[39;49m\u001b[38;5;124;43mvaliddate\u001b[39;49m\u001b[38;5;124;43m\"\u001b[39;49m\u001b[43m]\u001b[49m\u001b[43m)\u001b[49m\n\u001b[1;32m     27\u001b[0m \u001b[43m    \u001b[49m\u001b[38;5;241;43m.\u001b[39;49m\u001b[43massign\u001b[49m\u001b[43m(\u001b[49m\u001b[43mvalue_var\u001b[49m\u001b[38;5;241;43m=\u001b[39;49m\u001b[43mvar\u001b[49m\u001b[43m)\u001b[49m\n\u001b[1;32m     28\u001b[0m \u001b[43m    \u001b[49m\u001b[38;5;66;43;03m# .query(\"rank == 1 or rank == '1*'\")\u001b[39;49;00m\n\u001b[1;32m     29\u001b[0m \u001b[43m    \u001b[49m\u001b[43m[\u001b[49m\n\u001b[1;32m     30\u001b[0m \u001b[43m        \u001b[49m\u001b[43m[\u001b[49m\n\u001b[1;32m     31\u001b[0m \u001b[43m            \u001b[49m\u001b[38;5;124;43m\"\u001b[39;49m\u001b[38;5;124;43mid\u001b[39;49m\u001b[38;5;124;43m\"\u001b[39;49m\u001b[43m,\u001b[49m\n\u001b[1;32m     32\u001b[0m \u001b[43m            \u001b[49m\u001b[38;5;124;43m\"\u001b[39;49m\u001b[38;5;124;43mcity\u001b[39;49m\u001b[38;5;124;43m\"\u001b[39;49m\u001b[43m,\u001b[49m\n\u001b[1;32m     33\u001b[0m \u001b[43m            \u001b[49m\u001b[38;5;124;43m\"\u001b[39;49m\u001b[38;5;124;43mstate\u001b[39;49m\u001b[38;5;124;43m\"\u001b[39;49m\u001b[43m,\u001b[49m\n\u001b[1;32m     34\u001b[0m \u001b[43m            \u001b[49m\u001b[38;5;124;43m\"\u001b[39;49m\u001b[38;5;124;43mvalue\u001b[39;49m\u001b[38;5;124;43m\"\u001b[39;49m\u001b[43m,\u001b[49m\n\u001b[1;32m     35\u001b[0m \u001b[43m            \u001b[49m\u001b[38;5;124;43m\"\u001b[39;49m\u001b[38;5;124;43mvalue_var\u001b[39;49m\u001b[38;5;124;43m\"\u001b[39;49m\u001b[43m,\u001b[49m\n\u001b[1;32m     36\u001b[0m \u001b[43m            \u001b[49m\u001b[38;5;124;43m\"\u001b[39;49m\u001b[38;5;124;43mrank\u001b[39;49m\u001b[38;5;124;43m\"\u001b[39;49m\u001b[43m,\u001b[49m\n\u001b[1;32m     37\u001b[0m \u001b[43m            \u001b[49m\u001b[38;5;124;43m\"\u001b[39;49m\u001b[38;5;124;43mranktext\u001b[39;49m\u001b[38;5;124;43m\"\u001b[39;49m\u001b[43m,\u001b[49m\n\u001b[1;32m     38\u001b[0m \u001b[43m            \u001b[49m\u001b[38;5;124;43m\"\u001b[39;49m\u001b[38;5;124;43mdfnlabel\u001b[39;49m\u001b[38;5;124;43m\"\u001b[39;49m\u001b[43m,\u001b[49m\n\u001b[1;32m     39\u001b[0m \u001b[43m            \u001b[49m\u001b[38;5;124;43m\"\u001b[39;49m\u001b[38;5;124;43mdfn\u001b[39;49m\u001b[38;5;124;43m\"\u001b[39;49m\u001b[43m,\u001b[49m\n\u001b[1;32m     40\u001b[0m \u001b[43m            \u001b[49m\u001b[38;5;124;43m\"\u001b[39;49m\u001b[38;5;124;43mlat\u001b[39;49m\u001b[38;5;124;43m\"\u001b[39;49m\u001b[43m,\u001b[49m\n\u001b[1;32m     41\u001b[0m \u001b[43m            \u001b[49m\u001b[38;5;124;43m\"\u001b[39;49m\u001b[38;5;124;43mlon\u001b[39;49m\u001b[38;5;124;43m\"\u001b[39;49m\u001b[43m,\u001b[49m\n\u001b[1;32m     42\u001b[0m \u001b[43m            \u001b[49m\u001b[38;5;124;43m\"\u001b[39;49m\u001b[38;5;124;43mdate\u001b[39;49m\u001b[38;5;124;43m\"\u001b[39;49m\u001b[43m,\u001b[49m\n\u001b[1;32m     43\u001b[0m \u001b[43m        \u001b[49m\u001b[43m]\u001b[49m\n\u001b[1;32m     44\u001b[0m \u001b[43m    \u001b[49m\u001b[43m]\u001b[49m\n\u001b[1;32m     45\u001b[0m     \u001b[38;5;241m.\u001b[39mrename(\n\u001b[1;32m     46\u001b[0m         columns\u001b[38;5;241m=\u001b[39m{\n\u001b[1;32m     47\u001b[0m             \u001b[38;5;124m\"\u001b[39m\u001b[38;5;124mid\u001b[39m\u001b[38;5;124m\"\u001b[39m: \u001b[38;5;124m\"\u001b[39m\u001b[38;5;124mstation_id\u001b[39m\u001b[38;5;124m\"\u001b[39m,\n\u001b[1;32m     48\u001b[0m             \u001b[38;5;124m\"\u001b[39m\u001b[38;5;124mdfn\u001b[39m\u001b[38;5;124m\"\u001b[39m: \u001b[38;5;124m\"\u001b[39m\u001b[38;5;124mdiff_normal\u001b[39m\u001b[38;5;124m\"\u001b[39m,\n\u001b[1;32m     49\u001b[0m             \u001b[38;5;124m\"\u001b[39m\u001b[38;5;124mdfnlabel\u001b[39m\u001b[38;5;124m\"\u001b[39m: \u001b[38;5;124m\"\u001b[39m\u001b[38;5;124mdiff_normal_period\u001b[39m\u001b[38;5;124m\"\u001b[39m,\n\u001b[1;32m     50\u001b[0m         }\n\u001b[1;32m     51\u001b[0m     )\n\u001b[1;32m     52\u001b[0m )\u001b[38;5;241m.\u001b[39mreset_index(drop\u001b[38;5;241m=\u001b[39m\u001b[38;5;28;01mTrue\u001b[39;00m)\n\u001b[1;32m     53\u001b[0m dfs\u001b[38;5;241m.\u001b[39mappend(src)\n",
      "File \u001b[0;32m~/.local/share/virtualenvs/la-weather-m_q9Y3Zw/lib/python3.9/site-packages/pandas/core/frame.py:4108\u001b[0m, in \u001b[0;36mDataFrame.__getitem__\u001b[0;34m(self, key)\u001b[0m\n\u001b[1;32m   4106\u001b[0m     \u001b[38;5;28;01mif\u001b[39;00m is_iterator(key):\n\u001b[1;32m   4107\u001b[0m         key \u001b[38;5;241m=\u001b[39m \u001b[38;5;28mlist\u001b[39m(key)\n\u001b[0;32m-> 4108\u001b[0m     indexer \u001b[38;5;241m=\u001b[39m \u001b[38;5;28;43mself\u001b[39;49m\u001b[38;5;241;43m.\u001b[39;49m\u001b[43mcolumns\u001b[49m\u001b[38;5;241;43m.\u001b[39;49m\u001b[43m_get_indexer_strict\u001b[49m\u001b[43m(\u001b[49m\u001b[43mkey\u001b[49m\u001b[43m,\u001b[49m\u001b[43m \u001b[49m\u001b[38;5;124;43m\"\u001b[39;49m\u001b[38;5;124;43mcolumns\u001b[39;49m\u001b[38;5;124;43m\"\u001b[39;49m\u001b[43m)\u001b[49m[\u001b[38;5;241m1\u001b[39m]\n\u001b[1;32m   4110\u001b[0m \u001b[38;5;66;03m# take() does not accept boolean indexers\u001b[39;00m\n\u001b[1;32m   4111\u001b[0m \u001b[38;5;28;01mif\u001b[39;00m \u001b[38;5;28mgetattr\u001b[39m(indexer, \u001b[38;5;124m\"\u001b[39m\u001b[38;5;124mdtype\u001b[39m\u001b[38;5;124m\"\u001b[39m, \u001b[38;5;28;01mNone\u001b[39;00m) \u001b[38;5;241m==\u001b[39m \u001b[38;5;28mbool\u001b[39m:\n",
      "File \u001b[0;32m~/.local/share/virtualenvs/la-weather-m_q9Y3Zw/lib/python3.9/site-packages/pandas/core/indexes/base.py:6200\u001b[0m, in \u001b[0;36mIndex._get_indexer_strict\u001b[0;34m(self, key, axis_name)\u001b[0m\n\u001b[1;32m   6197\u001b[0m \u001b[38;5;28;01melse\u001b[39;00m:\n\u001b[1;32m   6198\u001b[0m     keyarr, indexer, new_indexer \u001b[38;5;241m=\u001b[39m \u001b[38;5;28mself\u001b[39m\u001b[38;5;241m.\u001b[39m_reindex_non_unique(keyarr)\n\u001b[0;32m-> 6200\u001b[0m \u001b[38;5;28;43mself\u001b[39;49m\u001b[38;5;241;43m.\u001b[39;49m\u001b[43m_raise_if_missing\u001b[49m\u001b[43m(\u001b[49m\u001b[43mkeyarr\u001b[49m\u001b[43m,\u001b[49m\u001b[43m \u001b[49m\u001b[43mindexer\u001b[49m\u001b[43m,\u001b[49m\u001b[43m \u001b[49m\u001b[43maxis_name\u001b[49m\u001b[43m)\u001b[49m\n\u001b[1;32m   6202\u001b[0m keyarr \u001b[38;5;241m=\u001b[39m \u001b[38;5;28mself\u001b[39m\u001b[38;5;241m.\u001b[39mtake(indexer)\n\u001b[1;32m   6203\u001b[0m \u001b[38;5;28;01mif\u001b[39;00m \u001b[38;5;28misinstance\u001b[39m(key, Index):\n\u001b[1;32m   6204\u001b[0m     \u001b[38;5;66;03m# GH 42790 - Preserve name from an Index\u001b[39;00m\n",
      "File \u001b[0;32m~/.local/share/virtualenvs/la-weather-m_q9Y3Zw/lib/python3.9/site-packages/pandas/core/indexes/base.py:6252\u001b[0m, in \u001b[0;36mIndex._raise_if_missing\u001b[0;34m(self, key, indexer, axis_name)\u001b[0m\n\u001b[1;32m   6249\u001b[0m     \u001b[38;5;28;01mraise\u001b[39;00m \u001b[38;5;167;01mKeyError\u001b[39;00m(\u001b[38;5;124mf\u001b[39m\u001b[38;5;124m\"\u001b[39m\u001b[38;5;124mNone of [\u001b[39m\u001b[38;5;132;01m{\u001b[39;00mkey\u001b[38;5;132;01m}\u001b[39;00m\u001b[38;5;124m] are in the [\u001b[39m\u001b[38;5;132;01m{\u001b[39;00maxis_name\u001b[38;5;132;01m}\u001b[39;00m\u001b[38;5;124m]\u001b[39m\u001b[38;5;124m\"\u001b[39m)\n\u001b[1;32m   6251\u001b[0m not_found \u001b[38;5;241m=\u001b[39m \u001b[38;5;28mlist\u001b[39m(ensure_index(key)[missing_mask\u001b[38;5;241m.\u001b[39mnonzero()[\u001b[38;5;241m0\u001b[39m]]\u001b[38;5;241m.\u001b[39munique())\n\u001b[0;32m-> 6252\u001b[0m \u001b[38;5;28;01mraise\u001b[39;00m \u001b[38;5;167;01mKeyError\u001b[39;00m(\u001b[38;5;124mf\u001b[39m\u001b[38;5;124m\"\u001b[39m\u001b[38;5;132;01m{\u001b[39;00mnot_found\u001b[38;5;132;01m}\u001b[39;00m\u001b[38;5;124m not in index\u001b[39m\u001b[38;5;124m\"\u001b[39m)\n",
      "\u001b[0;31mKeyError\u001b[0m: \"['id', 'city', 'state', 'value', 'rank', 'ranktext', 'dfnlabel', 'dfn', 'lat', 'lon'] not in index\""
     ]
    }
   ],
   "source": [
    "dfs = []\n",
    "\n",
    "for var in tqdm(variables):\n",
    "    for date in tqdm(date_range):\n",
    "        params = {\n",
    "            \"validdate\": date.strftime(\"%Y-%m-%d\"),\n",
    "            \"var\": var,\n",
    "            \"thresh\": \"climper\",\n",
    "            \"period\": \"1_DAY\",\n",
    "            \"map_display\": \"value\",  # any map_display_params\n",
    "            \"showthrdx\": \"true\",  # false\n",
    "            \"showcoop\": \"true\",  # false\n",
    "            \"domain\": \"conus\",  # us shows alaska, pr and hawaii\n",
    "        }\n",
    "\n",
    "        response = requests.get(\n",
    "            \"https://sercc.oasis.unc.edu/climpermap_json.php\",\n",
    "            params=params,\n",
    "            headers=headers,\n",
    "        )\n",
    "\n",
    "        json_data = response.json()[\"data\"]\n",
    "\n",
    "        src = (\n",
    "            pd.DataFrame.from_dict(json_data, orient=\"index\")\n",
    "            .assign(date=params[\"validdate\"])\n",
    "            .assign(value_var=var)\n",
    "            # .query(\"rank == 1 or rank == '1*'\")\n",
    "            [\n",
    "                [\n",
    "                    \"id\",\n",
    "                    \"city\",\n",
    "                    \"state\",\n",
    "                    \"value\",\n",
    "                    \"value_var\",\n",
    "                    \"rank\",\n",
    "                    \"ranktext\",\n",
    "                    \"dfnlabel\",\n",
    "                    \"dfn\",\n",
    "                    \"lat\",\n",
    "                    \"lon\",\n",
    "                    \"date\",\n",
    "                ]\n",
    "            ]\n",
    "            .rename(\n",
    "                columns={\n",
    "                    \"id\": \"station_id\",\n",
    "                    \"dfn\": \"diff_normal\",\n",
    "                    \"dfnlabel\": \"diff_normal_period\",\n",
    "                }\n",
    "            )\n",
    "        ).reset_index(drop=True)\n",
    "        dfs.append(src)"
   ]
  },
  {
   "cell_type": "code",
   "execution_count": null,
   "id": "b593f35e-994e-48e9-9f11-4b9e313782ca",
   "metadata": {},
   "outputs": [],
   "source": [
    "df = pd.concat(dfs)"
   ]
  },
  {
   "cell_type": "code",
   "execution_count": null,
   "id": "e61bb976-763a-4601-8e70-f1393d476536",
   "metadata": {},
   "outputs": [],
   "source": [
    "df.value_var.value_counts()"
   ]
  },
  {
   "cell_type": "code",
   "execution_count": null,
   "id": "728a4e8a-9dfc-41cd-9a8e-f8478cbd013e",
   "metadata": {},
   "outputs": [],
   "source": [
    "df"
   ]
  },
  {
   "cell_type": "code",
   "execution_count": null,
   "id": "e5ecf525-a862-48a7-9424-260a8f5d9415",
   "metadata": {},
   "outputs": [],
   "source": []
  },
  {
   "cell_type": "markdown",
   "id": "8575f3c0-5cac-4265-8e5c-9c72b135b43f",
   "metadata": {},
   "source": [
    "---"
   ]
  },
  {
   "cell_type": "markdown",
   "id": "2cedc251-d7e6-4134-9793-72ce4d5a62f4",
   "metadata": {},
   "source": [
    "## Exports"
   ]
  },
  {
   "cell_type": "markdown",
   "id": "830d1f22-c971-4ad4-ae2c-9a1d2c2e4e27",
   "metadata": {},
   "source": [
    "#### JSON"
   ]
  },
  {
   "cell_type": "code",
   "execution_count": null,
   "id": "49edbc76-c97f-4298-b86e-14cdfd9a4bc3",
   "metadata": {},
   "outputs": [],
   "source": [
    "# df.to_json(\n",
    "#     \"data/processed/sercc_climate_perspectives_records_archive.json\",\n",
    "#     indent=4,\n",
    "#     orient=\"records\",\n",
    "#     lines=False,\n",
    "# )"
   ]
  }
 ],
 "metadata": {
  "kernelspec": {
   "display_name": "Python 3 (ipykernel)",
   "language": "python",
   "name": "python3"
  },
  "language_info": {
   "codemirror_mode": {
    "name": "ipython",
    "version": 3
   },
   "file_extension": ".py",
   "mimetype": "text/x-python",
   "name": "python",
   "nbconvert_exporter": "python",
   "pygments_lexer": "ipython3",
   "version": "3.9.15"
  }
 },
 "nbformat": 4,
 "nbformat_minor": 5
}
