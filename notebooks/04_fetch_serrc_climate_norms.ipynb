{
 "cells": [
  {
   "cell_type": "markdown",
   "id": "77ab12ec-6a2c-4fd8-8b1a-45b8e69448cb",
   "metadata": {},
   "source": [
    "# SERCC: Temperature records\n",
    "> This notebook fetches and process data about temperature rankings, percentiles and departure from norm for hundreds of weather stations each day from the [SERCC](https://sercc.oasis.unc.edu/Map.php?region=conus). API feeds [this website](https://sercc.oasis.unc.edu/Map.php?region=conus&), which have many variables (including precipitation) that can offer ideas for adapting the API requests below. "
   ]
  },
  {
   "cell_type": "markdown",
   "id": "277c96d0-48d1-4944-8f3d-369979dbae0c",
   "metadata": {},
   "source": [
    "---"
   ]
  },
  {
   "cell_type": "markdown",
   "id": "b26f152f-1b2c-4231-9752-4ecbe64c4e6a",
   "metadata": {},
   "source": [
    "#### Import Python tools and Jupyter config"
   ]
  },
  {
   "cell_type": "code",
   "execution_count": 1,
   "id": "27cdbea4-067e-40fe-8a0e-52d79145a835",
   "metadata": {},
   "outputs": [],
   "source": [
    "import us\n",
    "import json\n",
    "import requests\n",
    "import pandas as pd\n",
    "import jupyter_black\n",
    "import altair as alt\n",
    "import geopandas as gpd\n",
    "from tqdm.notebook import tqdm\n",
    "from datetime import datetime, timedelta"
   ]
  },
  {
   "cell_type": "code",
   "execution_count": 2,
   "id": "890c26c6-a7d4-42ff-8d19-ef0d8d6cfb5b",
   "metadata": {
    "tags": []
   },
   "outputs": [
    {
     "data": {
      "text/html": [
       "\n",
       "                <script type=\"application/javascript\" id=\"jupyter_black\">\n",
       "                (function() {\n",
       "                    if (window.IPython === undefined) {\n",
       "                        return\n",
       "                    }\n",
       "                    var msg = \"WARNING: it looks like you might have loaded \" +\n",
       "                        \"jupyter_black in a non-lab notebook with \" +\n",
       "                        \"`is_lab=True`. Please double check, and if \" +\n",
       "                        \"loading with `%load_ext` please review the README!\"\n",
       "                    console.log(msg)\n",
       "                    alert(msg)\n",
       "                })()\n",
       "                </script>\n",
       "                "
      ],
      "text/plain": [
       "<IPython.core.display.HTML object>"
      ]
     },
     "metadata": {},
     "output_type": "display_data"
    }
   ],
   "source": [
    "jupyter_black.load()\n",
    "pd.options.display.max_columns = 100\n",
    "pd.options.display.max_rows = 100\n",
    "pd.options.display.max_colwidth = None"
   ]
  },
  {
   "cell_type": "code",
   "execution_count": 3,
   "id": "d587b99e-fe06-4372-b3b4-d64e927998a9",
   "metadata": {
    "tags": []
   },
   "outputs": [],
   "source": [
    "today = pd.Timestamp(\"today\").strftime(\"%Y-%m-%d\")\n",
    "yesterday = (pd.Timestamp(\"today\") - timedelta(days=1)).strftime(\"%Y-%m-%d\")"
   ]
  },
  {
   "cell_type": "markdown",
   "id": "fd4c08bc-ce9c-49b0-af2e-877593871769",
   "metadata": {},
   "source": [
    "---"
   ]
  },
  {
   "cell_type": "markdown",
   "id": "0028268b-647d-46db-8dbf-2f3ccf9a0651",
   "metadata": {},
   "source": [
    "## Fetch"
   ]
  },
  {
   "cell_type": "markdown",
   "id": "0e88ea7b-767d-4d28-9c05-0ad7e3cb61c7",
   "metadata": {},
   "source": [
    "#### Headers for request"
   ]
  },
  {
   "cell_type": "code",
   "execution_count": 5,
   "id": "d7224328-3bcb-4a52-80a7-823e348487df",
   "metadata": {},
   "outputs": [],
   "source": [
    "headers = {\n",
    "    \"User-Agent\": \"Mozilla/5.0 (Macintosh; Intel Mac OS X 10_15_7) AppleWebKit/537.36 (KHTML, like Gecko) Chrome/124.0.0.0 Safari/537.36\",\n",
    "}"
   ]
  },
  {
   "cell_type": "markdown",
   "id": "4a574dc1-b483-416e-9312-13a69189a3f5",
   "metadata": {},
   "source": [
    "#### Define the date range"
   ]
  },
  {
   "cell_type": "code",
   "execution_count": 6,
   "id": "36799a3c-948b-4efe-9bf1-932f25f01bb7",
   "metadata": {},
   "outputs": [],
   "source": [
    "start = \"2023-01-01\"\n",
    "start_date = datetime.strptime(start, \"%Y-%m-%d\")\n",
    "end = \"2023-12-31\"\n",
    "end_date = datetime.strptime(end, \"%Y-%m-%d\")\n",
    "date_range = [\n",
    "    start_date + timedelta(days=x) for x in range((end_date - start_date).days + 1)\n",
    "]\n",
    "# variables = []\n",
    "variables = [\"mint\", \"maxt\", \"avgt\", \"precip\"]"
   ]
  },
  {
   "cell_type": "markdown",
   "id": "f3db3aa4-36e2-4492-b742-02748d64f3ab",
   "metadata": {},
   "source": [
    "#### Temperature rankings from [SERCC](https://sercc.oasis.unc.edu/Map.php?region=conus)"
   ]
  },
  {
   "cell_type": "code",
   "execution_count": 8,
   "id": "0181d7d1-7429-41f2-ba78-eea532a2bb0b",
   "metadata": {},
   "outputs": [
    {
     "data": {
      "application/vnd.jupyter.widget-view+json": {
       "model_id": "fa8cdb1ae69d4f8b8dd2b84ba4f2b1b0",
       "version_major": 2,
       "version_minor": 0
      },
      "text/plain": [
       "  0%|          | 0/4 [00:00<?, ?it/s]"
      ]
     },
     "metadata": {},
     "output_type": "display_data"
    },
    {
     "data": {
      "application/vnd.jupyter.widget-view+json": {
       "model_id": "0a6b65bd6bcf4129b4a0d3fd3fdf902a",
       "version_major": 2,
       "version_minor": 0
      },
      "text/plain": [
       "  0%|          | 0/365 [00:00<?, ?it/s]"
      ]
     },
     "metadata": {},
     "output_type": "display_data"
    },
    {
     "data": {
      "application/vnd.jupyter.widget-view+json": {
       "model_id": "9ca25ab3f67e48c79a563b55387bde4a",
       "version_major": 2,
       "version_minor": 0
      },
      "text/plain": [
       "  0%|          | 0/365 [00:00<?, ?it/s]"
      ]
     },
     "metadata": {},
     "output_type": "display_data"
    },
    {
     "data": {
      "application/vnd.jupyter.widget-view+json": {
       "model_id": "2b8e7ffb9c124a63a695006a80b9eb8e",
       "version_major": 2,
       "version_minor": 0
      },
      "text/plain": [
       "  0%|          | 0/365 [00:00<?, ?it/s]"
      ]
     },
     "metadata": {},
     "output_type": "display_data"
    },
    {
     "data": {
      "application/vnd.jupyter.widget-view+json": {
       "model_id": "593d9e715faa4637a988b1cb1c57fd74",
       "version_major": 2,
       "version_minor": 0
      },
      "text/plain": [
       "  0%|          | 0/365 [00:00<?, ?it/s]"
      ]
     },
     "metadata": {},
     "output_type": "display_data"
    }
   ],
   "source": [
    "dfs = []\n",
    "\n",
    "for var in tqdm(variables):\n",
    "    for date in tqdm(date_range):\n",
    "        params = {\n",
    "            \"validdate\": date.strftime(\"%Y-%m-%d\"),\n",
    "            \"var\": var,\n",
    "            \"thresh\": \"climper\",\n",
    "            \"period\": \"1_DAY\",\n",
    "            \"map_display\": \"value\",\n",
    "            \"showthrdx\": \"true\",\n",
    "            \"showcoop\": \"true\",\n",
    "            \"domain\": \"conus\",\n",
    "        }\n",
    "\n",
    "        response = requests.get(\n",
    "            \"https://sercc.oasis.unc.edu/climpermap_json.php\",\n",
    "            params=params,\n",
    "            headers=headers,\n",
    "        )\n",
    "\n",
    "        json_data = response.json()[\"data\"]\n",
    "\n",
    "        src = (\n",
    "            pd.DataFrame.from_dict(json_data, orient=\"index\")\n",
    "            .assign(date=params[\"validdate\"])\n",
    "            .assign(value_variable=var)\n",
    "        ).reset_index(drop=True)\n",
    "        dfs.append(src)"
   ]
  },
  {
   "cell_type": "code",
   "execution_count": 20,
   "id": "b593f35e-994e-48e9-9f11-4b9e313782ca",
   "metadata": {},
   "outputs": [],
   "source": [
    "df = pd.concat(dfs)"
   ]
  },
  {
   "cell_type": "code",
   "execution_count": null,
   "id": "a3d081ef-3e9d-450e-bd46-936e694986c4",
   "metadata": {},
   "outputs": [],
   "source": [
    "df[\"dfn\"] = pd.to_numeric(df[\"dfn\"])\n",
    "df[\"value\"] = pd.to_numeric(df[\"value\"])"
   ]
  },
  {
   "cell_type": "code",
   "execution_count": 22,
   "id": "f52b3ebd-fc3d-49fd-a2d9-2be64b3dab12",
   "metadata": {},
   "outputs": [],
   "source": [
    "# derive the normal temperature\n",
    "df[\"normal_value\"] = df[\"value\"] - df[\"dfn\"]"
   ]
  },
  {
   "cell_type": "code",
   "execution_count": null,
   "id": "e1578069-bede-4eb1-b51e-6b11475c572c",
   "metadata": {},
   "outputs": [],
   "source": [
    "df_slim = df[\n",
    "    [\n",
    "        \"id\",\n",
    "        \"lat\",\n",
    "        \"lon\",\n",
    "        \"name\",\n",
    "        \"city\",\n",
    "        \"state\",\n",
    "        \"dfnlabel\",\n",
    "        \"dfn\",\n",
    "        \"date\",\n",
    "        \"value_variable\",\n",
    "        \"normal_value\",\n",
    "    ]\n",
    "].copy()"
   ]
  },
  {
   "cell_type": "markdown",
   "id": "2cedc251-d7e6-4134-9793-72ce4d5a62f4",
   "metadata": {},
   "source": [
    "## Exports"
   ]
  },
  {
   "cell_type": "markdown",
   "id": "830d1f22-c971-4ad4-ae2c-9a1d2c2e4e27",
   "metadata": {},
   "source": [
    "#### JSON"
   ]
  },
  {
   "cell_type": "code",
   "execution_count": 31,
   "id": "49edbc76-c97f-4298-b86e-14cdfd9a4bc3",
   "metadata": {},
   "outputs": [],
   "source": [
    "df_slim.to_json(\n",
    "    \"../data/processed/station_normals_temp_precip_sercc_archive.json\",\n",
    "    indent=4,\n",
    "    orient=\"records\",\n",
    "    lines=False,\n",
    ")"
   ]
  },
  {
   "cell_type": "code",
   "execution_count": 32,
   "id": "6ac0bda9-245e-4125-94e9-7c49b7809f18",
   "metadata": {},
   "outputs": [],
   "source": [
    "df_slim.to_parquet(\n",
    "    \"../data/processed/station_normals_temp_precip_sercc_archive.parquet\", index=False\n",
    ")"
   ]
  }
 ],
 "metadata": {
  "kernelspec": {
   "display_name": "Python 3 (ipykernel)",
   "language": "python",
   "name": "python3"
  },
  "language_info": {
   "codemirror_mode": {
    "name": "ipython",
    "version": 3
   },
   "file_extension": ".py",
   "mimetype": "text/x-python",
   "name": "python",
   "nbconvert_exporter": "python",
   "pygments_lexer": "ipython3",
   "version": "3.9.15"
  }
 },
 "nbformat": 4,
 "nbformat_minor": 5
}
