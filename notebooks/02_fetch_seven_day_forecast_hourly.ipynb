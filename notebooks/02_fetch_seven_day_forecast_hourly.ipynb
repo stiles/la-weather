{
 "cells": [
  {
   "cell_type": "code",
   "execution_count": 1,
   "id": "4d686d6d-4aa2-4d1f-89aa-e9ceabfebd17",
   "metadata": {},
   "outputs": [],
   "source": [
    "# NWS seven-day, hourly forcast for the LA area\n",
    "# This notebook captures the value heavy version of the forecast\n",
    "# converting XML to JSON and uploading it to S3"
   ]
  },
  {
   "cell_type": "code",
   "execution_count": 2,
   "id": "4d6facbe-e730-4a97-adb7-85b442f09dad",
   "metadata": {},
   "outputs": [],
   "source": [
    "# Import Python tools and Jupyter config"
   ]
  },
  {
   "cell_type": "code",
   "execution_count": 3,
   "id": "27cdbea4-067e-40fe-8a0e-52d79145a835",
   "metadata": {},
   "outputs": [],
   "source": [
    "import os\n",
    "import json\n",
    "import tqdm\n",
    "import boto3\n",
    "import requests\n",
    "import pandas as pd\n",
    "import jupyter_black\n",
    "from pathlib import Path\n",
    "from xml.etree import ElementTree as ET"
   ]
  },
  {
   "cell_type": "code",
   "execution_count": 4,
   "id": "b1cecca9-e824-482c-97ce-a3539ce2ec2c",
   "metadata": {
    "tags": []
   },
   "outputs": [
    {
     "data": {
      "text/html": [
       "\n",
       "                <script type=\"application/javascript\" id=\"jupyter_black\">\n",
       "                (function() {\n",
       "                    if (window.IPython === undefined) {\n",
       "                        return\n",
       "                    }\n",
       "                    var msg = \"WARNING: it looks like you might have loaded \" +\n",
       "                        \"jupyter_black in a non-lab notebook with \" +\n",
       "                        \"`is_lab=True`. Please double check, and if \" +\n",
       "                        \"loading with `%load_ext` please review the README!\"\n",
       "                    console.log(msg)\n",
       "                    alert(msg)\n",
       "                })()\n",
       "                </script>\n",
       "                "
      ],
      "text/plain": [
       "<IPython.core.display.HTML object>"
      ]
     },
     "metadata": {},
     "output_type": "display_data"
    }
   ],
   "source": [
    "jupyter_black.load()\n",
    "pd.options.display.max_columns = 200\n",
    "pd.options.display.max_rows = 100\n",
    "pd.options.display.max_colwidth = None\n",
    "pd.set_option(\"display.max_columns\", None)"
   ]
  },
  {
   "cell_type": "code",
   "execution_count": 5,
   "id": "a52f253a-5546-4b8d-bfa5-a2b487f90d0d",
   "metadata": {
    "tags": []
   },
   "outputs": [],
   "source": [
    "# Determine the absolute paths for input and output files\n",
    "BASE = Path.cwd()\n",
    "JSON_OUT = BASE / \"../data/processed/seven_day_forecast_hourly.json\"\n",
    "CSV_OUT = BASE / \"../data/processed/seven_day_forecast_hourly.csv\""
   ]
  },
  {
   "cell_type": "code",
   "execution_count": 6,
   "id": "14e6436a-6ba7-4097-842f-fdf555d48c49",
   "metadata": {},
   "outputs": [],
   "source": [
    "# Load locations from the config file\n",
    "with open(\"../data/reference/socal_stations_daily.json\", \"r\") as f:\n",
    "    locations = json.load(f)\n",
    "\n",
    "base_url = (\n",
    "    \"https://forecast.weather.gov/MapClick.php?lat={}&lon={}&FcstType=digitalDWML\"\n",
    ")"
   ]
  },
  {
   "cell_type": "code",
   "execution_count": 7,
   "id": "a020dfbf-cca5-49d7-99c0-bfd3b53ee7a3",
   "metadata": {},
   "outputs": [],
   "source": [
    "def fetch_weather_data(latitude, longitude):\n",
    "    url = base_url.format(latitude, longitude)\n",
    "    response = requests.get(url)\n",
    "    if response.status_code == 200:\n",
    "        return response.content\n",
    "    else:\n",
    "        print(f\"Failed to fetch data for {latitude}, {longitude}\")\n",
    "        return None\n",
    "\n",
    "\n",
    "def parse_weather_data(xml_data, station_name):\n",
    "    root = ET.fromstring(xml_data)\n",
    "    data = []\n",
    "    location_name = root.find(\".//location/description\")\n",
    "    if location_name is not None and location_name.text.strip():\n",
    "        location_name = station_name.title()\n",
    "    else:\n",
    "        location_name = station_name.title()\n",
    "\n",
    "    time_layout = {}\n",
    "    for layout in root.findall(\".//time-layout\"):\n",
    "        layout_key = layout.find(\"layout-key\").text\n",
    "        start_times = layout.findall(\"start-valid-time\")\n",
    "        time_layout[layout_key] = [start_time.text for start_time in start_times]\n",
    "\n",
    "    parameters = root.find(\".//parameters\")\n",
    "    temp_values = [\n",
    "        int(temp.text) if temp.text is not None else None\n",
    "        for temp in parameters.findall(\".//temperature[@type='hourly']/value\")\n",
    "    ]\n",
    "    humidity_values = [\n",
    "        int(hum.text) if hum.text is not None else None\n",
    "        for hum in parameters.findall(\".//humidity[@type='relative']/value\")\n",
    "    ]\n",
    "    wind_speed_values = [\n",
    "        int(ws.text) if ws.text is not None else None\n",
    "        for ws in parameters.findall(\".//wind-speed[@type='sustained']/value\")\n",
    "    ]\n",
    "    wind_direction_values = [\n",
    "        int(wd.text) if wd.text is not None else None\n",
    "        for wd in parameters.findall(\".//direction[@type='wind']/value\")\n",
    "    ]\n",
    "    cloud_cover_values = [\n",
    "        int(cc.text) if cc.text is not None else None\n",
    "        for cc in parameters.findall(\".//cloud-amount[@type='total']/value\")\n",
    "    ]\n",
    "    hourly_qpf_values = [\n",
    "        float(qpf.text) if qpf.text is not None else None\n",
    "        for qpf in parameters.findall(\".//hourly-qpf/value\")\n",
    "    ]\n",
    "    pop_values = [\n",
    "        int(pop.text) if pop.text is not None else None\n",
    "        for pop in parameters.findall(\".//probability-of-precipitation/value\")\n",
    "    ]\n",
    "\n",
    "    for i, time in enumerate(time_layout[\"k-p1h-n1-0\"]):\n",
    "        data.append(\n",
    "            {\n",
    "                \"location\": location_name,\n",
    "                \"time\": time,\n",
    "                \"temperature\": temp_values[i] if i < len(temp_values) else None,\n",
    "                \"humidity\": humidity_values[i] if i < len(humidity_values) else None,\n",
    "                \"wind_speed\": (\n",
    "                    wind_speed_values[i] if i < len(wind_speed_values) else None\n",
    "                ),\n",
    "                \"wind_direction\": (\n",
    "                    wind_direction_values[i] if i < len(wind_direction_values) else None\n",
    "                ),\n",
    "                \"cloud_cover\": (\n",
    "                    cloud_cover_values[i] if i < len(cloud_cover_values) else None\n",
    "                ),\n",
    "                \"hourly_qpf\": (\n",
    "                    hourly_qpf_values[i] if i < len(hourly_qpf_values) else None\n",
    "                ),\n",
    "                \"probability_of_precipitation\": (\n",
    "                    pop_values[i] if i < len(pop_values) else None\n",
    "                ),\n",
    "            }\n",
    "        )\n",
    "\n",
    "    return data"
   ]
  },
  {
   "cell_type": "code",
   "execution_count": 8,
   "id": "a5384131-8800-438f-8de5-a87af63caf85",
   "metadata": {},
   "outputs": [],
   "source": [
    "all_data = []\n",
    "\n",
    "for station_id, info in locations.items():\n",
    "    xml_data = fetch_weather_data(info[\"latitude\"], info[\"longitude\"])\n",
    "    if xml_data:\n",
    "        weather_data = parse_weather_data(\n",
    "            xml_data,\n",
    "            info[\"station\"].title().replace(\"Ucla\", \"UCLA\").replace(\"Lax\", \"LAX\"),\n",
    "        )\n",
    "        all_data.extend(weather_data)"
   ]
  },
  {
   "cell_type": "code",
   "execution_count": 9,
   "id": "34e75a43-c36f-4729-bc44-842051f5d78b",
   "metadata": {},
   "outputs": [],
   "source": [
    "# Convert to DataFrame\n",
    "df = pd.DataFrame(all_data)"
   ]
  },
  {
   "cell_type": "code",
   "execution_count": 10,
   "id": "f108b8a5-f58f-4ce2-96e7-ee6775d30145",
   "metadata": {},
   "outputs": [],
   "source": [
    "df.to_csv(CSV_OUT, index=False)\n",
    "df.to_json(JSON_OUT, indent=4, orient=\"records\")"
   ]
  },
  {
   "cell_type": "code",
   "execution_count": 11,
   "id": "c43aae17-e96a-40f7-8560-ac3c8f42f976",
   "metadata": {},
   "outputs": [],
   "source": [
    "# S3"
   ]
  },
  {
   "cell_type": "code",
   "execution_count": 12,
   "id": "769b4c80-b0b0-4d3f-9bc3-76b0de302b41",
   "metadata": {},
   "outputs": [
    {
     "name": "stdout",
     "output_type": "stream",
     "text": [
      "CSV file uploaded to s3://stilesdata.com/weather/seven_day_forecast_hourly.csv\n",
      "JSON file uploaded to s3://stilesdata.com/weather/seven_day_forecast_hourly.json\n"
     ]
    }
   ],
   "source": [
    "# Paths for S3 storage\n",
    "S3_BUCKET = \"stilesdata.com\"\n",
    "S3_CSV_KEY = f\"weather/seven_day_forecast_hourly.csv\"\n",
    "S3_JSON_KEY = f\"weather/seven_day_forecast_hourly.json\"\n",
    "\n",
    "# Initialize boto3 client with environment variables\n",
    "s3_client = boto3.client(\n",
    "    \"s3\",\n",
    "    aws_access_key_id=os.getenv(\"MY_AWS_ACCESS_KEY_ID\"),\n",
    "    aws_secret_access_key=os.getenv(\"MY_AWS_SECRET_ACCESS_KEY\"),\n",
    "    aws_session_token=os.getenv(\"MY_AWS_SESSION_TOKEN\"),\n",
    ")\n",
    "\n",
    "# Upload the CSV file to S3\n",
    "s3_client.upload_file(str(CSV_OUT), S3_BUCKET, S3_CSV_KEY)\n",
    "print(f\"CSV file uploaded to s3://{S3_BUCKET}/{S3_CSV_KEY}\")\n",
    "\n",
    "# Upload the JSON file\n",
    "s3_client.upload_file(str(JSON_OUT), S3_BUCKET, S3_JSON_KEY)\n",
    "print(f\"JSON file uploaded to s3://{S3_BUCKET}/{S3_JSON_KEY}\")"
   ]
  },
  {
   "cell_type": "code",
   "execution_count": 15,
   "id": "e84208b5-e99e-4a3a-96a3-3325eeea9b96",
   "metadata": {},
   "outputs": [
    {
     "name": "stdout",
     "output_type": "stream",
     "text": [
      "[NbConvertApp] Converting notebook 02_fetch_seven_day_forecast_hourly.ipynb to script\n",
      "[NbConvertApp] Writing 5524 bytes to ../scripts/fetch_seven_day_forecast_hourly.py\n"
     ]
    }
   ],
   "source": [
    "# !jupyter nbconvert --to script --no-prompt --output ../scripts/fetch_seven_day_forecast_hourly 02_fetch_seven_day_forecast_hourly.ipynb"
   ]
  }
 ],
 "metadata": {
  "kernelspec": {
   "display_name": "Python 3 (ipykernel)",
   "language": "python",
   "name": "python3"
  },
  "language_info": {
   "codemirror_mode": {
    "name": "ipython",
    "version": 3
   },
   "file_extension": ".py",
   "mimetype": "text/x-python",
   "name": "python",
   "nbconvert_exporter": "python",
   "pygments_lexer": "ipython3",
   "version": "3.9.15"
  }
 },
 "nbformat": 4,
 "nbformat_minor": 5
}
