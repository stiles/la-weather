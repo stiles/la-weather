{
 "cells": [
  {
   "cell_type": "code",
   "execution_count": 2,
   "id": "41315293-d7ff-45e2-bbf3-cc672df96c8d",
   "metadata": {},
   "outputs": [],
   "source": [
    "import requests\n",
    "from xml.etree import ElementTree as ET"
   ]
  },
  {
   "cell_type": "code",
   "execution_count": 9,
   "id": "127dd0d0-8567-42aa-a716-7e7d9b479609",
   "metadata": {},
   "outputs": [
    {
     "name": "stdout",
     "output_type": "stream",
     "text": [
      "Title: CONUS Apparent Surface (2m AGL) Air Temperature (F)\n",
      "Abstract: None\n",
      "Available CRS options: ['EPSG:3857', 'CRS:84']\n",
      "Time dimensions: 2024-08-01T14:00:00.000Z,2024-08-01T15:00:00.000Z,2024-08-01T16:00:00.000Z,2024-08-01T17:00:00.000Z,2024-08-01T18:00:00.000Z,2024-08-01T19:00:00.000Z,2024-08-01T20:00:00.000Z,2024-08-01T21:00:00.000Z,2024-08-01T22:00:00.000Z,2024-08-01T23:00:00.000Z,2024-08-02T00:00:00.000Z,2024-08-02T01:00:00.000Z,2024-08-02T02:00:00.000Z,2024-08-02T03:00:00.000Z,2024-08-02T04:00:00.000Z,2024-08-02T05:00:00.000Z,2024-08-02T06:00:00.000Z,2024-08-02T07:00:00.000Z,2024-08-02T08:00:00.000Z,2024-08-02T09:00:00.000Z,2024-08-02T10:00:00.000Z,2024-08-02T11:00:00.000Z,2024-08-02T12:00:00.000Z,2024-08-02T13:00:00.000Z,2024-08-02T14:00:00.000Z,2024-08-02T15:00:00.000Z,2024-08-02T16:00:00.000Z,2024-08-02T17:00:00.000Z,2024-08-02T18:00:00.000Z,2024-08-02T19:00:00.000Z,2024-08-02T20:00:00.000Z,2024-08-02T21:00:00.000Z,2024-08-02T22:00:00.000Z,2024-08-02T23:00:00.000Z,2024-08-03T00:00:00.000Z,2024-08-03T01:00:00.000Z,2024-08-03T02:00:00.000Z,2024-08-03T03:00:00.000Z,2024-08-03T04:00:00.000Z,2024-08-03T06:00:00.000Z,2024-08-03T09:00:00.000Z,2024-08-03T12:00:00.000Z,2024-08-03T15:00:00.000Z,2024-08-03T18:00:00.000Z,2024-08-03T21:00:00.000Z,2024-08-04T00:00:00.000Z,2024-08-04T06:00:00.000Z,2024-08-04T12:00:00.000Z,2024-08-04T18:00:00.000Z,2024-08-05T00:00:00.000Z,2024-08-05T06:00:00.000Z,2024-08-05T12:00:00.000Z,2024-08-05T18:00:00.000Z,2024-08-06T00:00:00.000Z,2024-08-06T06:00:00.000Z,2024-08-06T12:00:00.000Z,2024-08-06T18:00:00.000Z,2024-08-07T00:00:00.000Z,2024-08-07T06:00:00.000Z,2024-08-07T12:00:00.000Z,2024-08-07T18:00:00.000Z,2024-08-08T00:00:00.000Z\n"
     ]
    }
   ],
   "source": [
    "# Define the URL for the WMS GetCapabilities request\n",
    "url = \"https://nowcoast.noaa.gov/geoserver/forecasts/ndfd_temperature/ows?SERVICE=WMS&VERSION=1.3.0&REQUEST=GetCapabilities\"\n",
    "\n",
    "# Make the GetCapabilities request\n",
    "response = requests.get(url)\n",
    "if response.status_code == 200:\n",
    "    # Parse the XML response\n",
    "    root = ET.fromstring(response.content)\n",
    "    \n",
    "    # Namespace map to parse the XML\n",
    "    ns = {'wms': 'http://www.opengis.net/wms'}\n",
    "    \n",
    "    # Find and print details specific to the CONUS apparent temperature layer\n",
    "    for layer in root.findall(\".//wms:Layer[wms:Name='conus_apparent_temperature']\", ns):\n",
    "        title = layer.find('wms:Title', ns).text\n",
    "        abstract = layer.find('wms:Abstract', ns).text if layer.find('wms:Abstract', ns) is not None else \"No description\"\n",
    "        crs_options = [crs.text for crs in layer.findall('wms:CRS', ns)]\n",
    "        time_dimensions = layer.find(\".//wms:Dimension[@name='time']\", ns).text if layer.find(\".//wms:Dimension[@name='time']\", ns) is not None else \"No time dimension info\"\n",
    "\n",
    "        layer_dict = {\n",
    "            \"title\": title,\n",
    "            \"abstract\": abstract,\n",
    "            \"crs_options\": crs_options,\n",
    "            \"time_dimensions\": time_dimensions,\n",
    "        }\n",
    "        \n",
    "        print(f\"Title: {title}\")\n",
    "        print(f\"Abstract: {abstract}\")\n",
    "        print(f\"Available CRS options: {crs_options}\")\n",
    "        print(f\"Time dimensions: {time_dimensions}\")\n",
    "else:\n",
    "    print(\"Failed to fetch data\")"
   ]
  },
  {
   "cell_type": "code",
   "execution_count": null,
   "id": "f5f8e86a-6542-4627-9caf-99b34c6b94ae",
   "metadata": {},
   "outputs": [],
   "source": []
  },
  {
   "cell_type": "code",
   "execution_count": 10,
   "id": "76e5ed77-7f80-49d4-bb41-cb8d97b88ed1",
   "metadata": {},
   "outputs": [
    {
     "data": {
      "text/plain": [
       "{'title': 'CONUS Apparent Surface (2m AGL) Air Temperature (F)',\n",
       " 'abstract': None,\n",
       " 'crs_options': ['EPSG:3857', 'CRS:84'],\n",
       " 'time_dimensions': '2024-08-01T14:00:00.000Z,2024-08-01T15:00:00.000Z,2024-08-01T16:00:00.000Z,2024-08-01T17:00:00.000Z,2024-08-01T18:00:00.000Z,2024-08-01T19:00:00.000Z,2024-08-01T20:00:00.000Z,2024-08-01T21:00:00.000Z,2024-08-01T22:00:00.000Z,2024-08-01T23:00:00.000Z,2024-08-02T00:00:00.000Z,2024-08-02T01:00:00.000Z,2024-08-02T02:00:00.000Z,2024-08-02T03:00:00.000Z,2024-08-02T04:00:00.000Z,2024-08-02T05:00:00.000Z,2024-08-02T06:00:00.000Z,2024-08-02T07:00:00.000Z,2024-08-02T08:00:00.000Z,2024-08-02T09:00:00.000Z,2024-08-02T10:00:00.000Z,2024-08-02T11:00:00.000Z,2024-08-02T12:00:00.000Z,2024-08-02T13:00:00.000Z,2024-08-02T14:00:00.000Z,2024-08-02T15:00:00.000Z,2024-08-02T16:00:00.000Z,2024-08-02T17:00:00.000Z,2024-08-02T18:00:00.000Z,2024-08-02T19:00:00.000Z,2024-08-02T20:00:00.000Z,2024-08-02T21:00:00.000Z,2024-08-02T22:00:00.000Z,2024-08-02T23:00:00.000Z,2024-08-03T00:00:00.000Z,2024-08-03T01:00:00.000Z,2024-08-03T02:00:00.000Z,2024-08-03T03:00:00.000Z,2024-08-03T04:00:00.000Z,2024-08-03T06:00:00.000Z,2024-08-03T09:00:00.000Z,2024-08-03T12:00:00.000Z,2024-08-03T15:00:00.000Z,2024-08-03T18:00:00.000Z,2024-08-03T21:00:00.000Z,2024-08-04T00:00:00.000Z,2024-08-04T06:00:00.000Z,2024-08-04T12:00:00.000Z,2024-08-04T18:00:00.000Z,2024-08-05T00:00:00.000Z,2024-08-05T06:00:00.000Z,2024-08-05T12:00:00.000Z,2024-08-05T18:00:00.000Z,2024-08-06T00:00:00.000Z,2024-08-06T06:00:00.000Z,2024-08-06T12:00:00.000Z,2024-08-06T18:00:00.000Z,2024-08-07T00:00:00.000Z,2024-08-07T06:00:00.000Z,2024-08-07T12:00:00.000Z,2024-08-07T18:00:00.000Z,2024-08-08T00:00:00.000Z'}"
      ]
     },
     "execution_count": 10,
     "metadata": {},
     "output_type": "execute_result"
    }
   ],
   "source": [
    "layer_dict"
   ]
  },
  {
   "cell_type": "code",
   "execution_count": null,
   "id": "93f3d546-8785-4f0e-a384-ab67eb50bba3",
   "metadata": {},
   "outputs": [],
   "source": []
  }
 ],
 "metadata": {
  "kernelspec": {
   "display_name": "Python 3 (ipykernel)",
   "language": "python",
   "name": "python3"
  },
  "language_info": {
   "codemirror_mode": {
    "name": "ipython",
    "version": 3
   },
   "file_extension": ".py",
   "mimetype": "text/x-python",
   "name": "python",
   "nbconvert_exporter": "python",
   "pygments_lexer": "ipython3",
   "version": "3.9.15"
  }
 },
 "nbformat": 4,
 "nbformat_minor": 5
}
