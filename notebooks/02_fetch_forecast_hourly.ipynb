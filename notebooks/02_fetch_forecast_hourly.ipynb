{
 "cells": [
  {
   "cell_type": "markdown",
   "id": "77ab12ec-6a2c-4fd8-8b1a-45b8e69448cb",
   "metadata": {},
   "source": [
    "# NWS hourly forcast for the LA area\n",
    "> This notebook fetches and processes XML data for numerous locations and stores it as a Pandas dataframe"
   ]
  },
  {
   "cell_type": "markdown",
   "id": "277c96d0-48d1-4944-8f3d-369979dbae0c",
   "metadata": {},
   "source": [
    "---"
   ]
  },
  {
   "cell_type": "markdown",
   "id": "b26f152f-1b2c-4231-9752-4ecbe64c4e6a",
   "metadata": {},
   "source": [
    "#### Import Python tools and Jupyter config"
   ]
  },
  {
   "cell_type": "code",
   "execution_count": 53,
   "id": "27cdbea4-067e-40fe-8a0e-52d79145a835",
   "metadata": {},
   "outputs": [],
   "source": [
    "import json\n",
    "import tqdm\n",
    "import requests\n",
    "import pandas as pd\n",
    "import jupyter_black\n",
    "from xml.etree import ElementTree as ET"
   ]
  },
  {
   "cell_type": "code",
   "execution_count": 39,
   "id": "890c26c6-a7d4-42ff-8d19-ef0d8d6cfb5b",
   "metadata": {
    "tags": []
   },
   "outputs": [],
   "source": [
    "jupyter_black.load()\n",
    "pd.options.display.max_columns = 200\n",
    "pd.options.display.max_rows = 100\n",
    "pd.options.display.max_colwidth = None\n",
    "pd.set_option(\"display.max_columns\", None)"
   ]
  },
  {
   "cell_type": "code",
   "execution_count": 76,
   "id": "409dfe3c-8707-4aea-a6ef-72d75a3d1d0d",
   "metadata": {},
   "outputs": [],
   "source": [
    "\n",
    "locations = {\n",
    "    \"Santa Monica\": {\"latitude\": 34.0195, \"longitude\": -118.4912},\n",
    "    \"Culver City\": {\"latitude\": 34.0219, \"longitude\": -118.3965},\n",
    "    \"Pasadena\": {\"latitude\": 34.1478, \"longitude\": -118.1445},\n",
    "    \"Irvine\": {\"latitude\": 33.6846, \"longitude\": -117.8265},\n",
    "    \"Manhattan Beach\": {\"latitude\": 33.8847, \"longitude\": -118.4109},\n",
    "    \"Downtown Los Angeles\": {\"latitude\": 34.0407, \"longitude\": -118.2468},\n",
    "    \"Arcadia\": {\"latitude\": 34.1397, \"longitude\": -118.0353},\n",
    "    \"Burbank\": {\"latitude\": 34.1808, \"longitude\": -118.3089},\n",
    "    \"Torrance\": {\"latitude\": 33.8358, \"longitude\": -118.3406},\n",
    "    \"Newport Beach\": {\"latitude\": 33.6189, \"longitude\": -117.9298},\n",
    "    \"Malibu\": {\"latitude\": 34.0259, \"longitude\": -118.7798},\n",
    "}\n",
    "\n",
    "base_url = (\n",
    "    \"https://forecast.weather.gov/MapClick.php?lat={}&lon={}&FcstType=digitalDWML\"\n",
    ")\n",
    "\n",
    "\n",
    "def fetch_weather_data(latitude, longitude):\n",
    "    url = base_url.format(latitude, longitude)\n",
    "    response = requests.get(url)\n",
    "    if response.status_code == 200:\n",
    "        return response.content\n",
    "    else:\n",
    "        print(f\"Failed to fetch data for {latitude}, {longitude}\")\n",
    "        return None\n",
    "\n",
    "\n",
    "def parse_weather_data(xml_data):\n",
    "    root = ET.fromstring(xml_data)\n",
    "    data = []\n",
    "    location_name = root.find(\".//location/description\")\n",
    "    if location_name is not None:\n",
    "        location_name = (\n",
    "            location_name.text.replace(\"CA, CA\", \"\")\n",
    "            .replace(\"East L.A.\", \"Downtown LA\")\n",
    "            .strip()\n",
    "        )\n",
    "    else:\n",
    "        location_name = \"Unknown Location\"\n",
    "\n",
    "    time_layout = {}\n",
    "    for layout in root.findall(\".//time-layout\"):\n",
    "        layout_key = layout.find(\"layout-key\").text\n",
    "        start_times = layout.findall(\"start-valid-time\")\n",
    "        time_layout[layout_key] = [start_time.text for start_time in start_times]\n",
    "\n",
    "    parameters = root.find(\".//parameters\")\n",
    "    temp_values = [\n",
    "        int(temp.text) if temp.text is not None else None\n",
    "        for temp in parameters.findall(\".//temperature[@type='hourly']/value\")\n",
    "    ]\n",
    "    humidity_values = [\n",
    "        int(hum.text) if hum.text is not None else None\n",
    "        for hum in parameters.findall(\".//humidity[@type='relative']/value\")\n",
    "    ]\n",
    "    wind_speed_values = [\n",
    "        int(ws.text) if ws.text is not None else None\n",
    "        for ws in parameters.findall(\".//wind-speed[@type='sustained']/value\")\n",
    "    ]\n",
    "    wind_direction_values = [\n",
    "        int(wd.text) if wd.text is not None else None\n",
    "        for wd in parameters.findall(\".//direction[@type='wind']/value\")\n",
    "    ]\n",
    "    cloud_cover_values = [\n",
    "        int(cc.text) if cc.text is not None else None\n",
    "        for cc in parameters.findall(\".//cloud-amount[@type='total']/value\")\n",
    "    ]\n",
    "    hourly_qpf_values = [\n",
    "        float(qpf.text) if qpf.text is not None else None\n",
    "        for qpf in parameters.findall(\".//hourly-qpf/value\")\n",
    "    ]\n",
    "    pop_values = [\n",
    "        int(pop.text) if pop.text is not None else None\n",
    "        for pop in parameters.findall(\".//probability-of-precipitation/value\")\n",
    "    ]\n",
    "\n",
    "    for i, time in enumerate(time_layout[\"k-p1h-n1-0\"]):\n",
    "        data.append(\n",
    "            {\n",
    "                \"location\": location_name,\n",
    "                \"time\": time,\n",
    "                \"temperature\": temp_values[i] if i < len(temp_values) else None,\n",
    "                \"humidity\": humidity_values[i] if i < len(humidity_values) else None,\n",
    "                \"wind_speed\": (\n",
    "                    wind_speed_values[i] if i < len(wind_speed_values) else None\n",
    "                ),\n",
    "                \"wind_direction\": (\n",
    "                    wind_direction_values[i] if i < len(wind_direction_values) else None\n",
    "                ),\n",
    "                \"cloud_cover\": (\n",
    "                    cloud_cover_values[i] if i < len(cloud_cover_values) else None\n",
    "                ),\n",
    "                \"hourly_qpf\": (\n",
    "                    hourly_qpf_values[i] if i < len(hourly_qpf_values) else None\n",
    "                ),\n",
    "                \"probability_of_precipitation\": (\n",
    "                    pop_values[i] if i < len(pop_values) else None\n",
    "                ),\n",
    "            }\n",
    "        )\n",
    "\n",
    "    return data\n",
    "\n",
    "\n",
    "all_data = []\n",
    "\n",
    "for location, coords in locations.items():\n",
    "    xml_data = fetch_weather_data(coords[\"latitude\"], coords[\"longitude\"])\n",
    "    if xml_data:\n",
    "        weather_data = parse_weather_data(xml_data)\n",
    "        all_data.extend(weather_data)\n",
    "\n",
    "# Convert to DataFrame\n",
    "df = pd.DataFrame(all_data)"
   ]
  },
  {
   "cell_type": "code",
   "execution_count": 77,
   "id": "16afb21e-7d90-41a9-84e1-46ed92ea3b23",
   "metadata": {},
   "outputs": [
    {
     "data": {
      "text/html": [
       "<div>\n",
       "<style scoped>\n",
       "    .dataframe tbody tr th:only-of-type {\n",
       "        vertical-align: middle;\n",
       "    }\n",
       "\n",
       "    .dataframe tbody tr th {\n",
       "        vertical-align: top;\n",
       "    }\n",
       "\n",
       "    .dataframe thead th {\n",
       "        text-align: right;\n",
       "    }\n",
       "</style>\n",
       "<table border=\"1\" class=\"dataframe\">\n",
       "  <thead>\n",
       "    <tr style=\"text-align: right;\">\n",
       "      <th></th>\n",
       "      <th>location</th>\n",
       "      <th>time</th>\n",
       "      <th>temperature</th>\n",
       "      <th>humidity</th>\n",
       "      <th>wind_speed</th>\n",
       "      <th>wind_direction</th>\n",
       "      <th>cloud_cover</th>\n",
       "      <th>hourly_qpf</th>\n",
       "      <th>probability_of_precipitation</th>\n",
       "    </tr>\n",
       "  </thead>\n",
       "  <tbody>\n",
       "    <tr>\n",
       "      <th>168</th>\n",
       "      <td>Culver City</td>\n",
       "      <td>2024-07-30T11:00:00-07:00</td>\n",
       "      <td>73</td>\n",
       "      <td>57</td>\n",
       "      <td>9</td>\n",
       "      <td>220</td>\n",
       "      <td>11</td>\n",
       "      <td>0.0</td>\n",
       "      <td>1</td>\n",
       "    </tr>\n",
       "    <tr>\n",
       "      <th>169</th>\n",
       "      <td>Culver City</td>\n",
       "      <td>2024-07-30T12:00:00-07:00</td>\n",
       "      <td>74</td>\n",
       "      <td>56</td>\n",
       "      <td>9</td>\n",
       "      <td>220</td>\n",
       "      <td>11</td>\n",
       "      <td>0.0</td>\n",
       "      <td>1</td>\n",
       "    </tr>\n",
       "    <tr>\n",
       "      <th>170</th>\n",
       "      <td>Culver City</td>\n",
       "      <td>2024-07-30T13:00:00-07:00</td>\n",
       "      <td>74</td>\n",
       "      <td>56</td>\n",
       "      <td>9</td>\n",
       "      <td>220</td>\n",
       "      <td>11</td>\n",
       "      <td>0.0</td>\n",
       "      <td>1</td>\n",
       "    </tr>\n",
       "    <tr>\n",
       "      <th>171</th>\n",
       "      <td>Culver City</td>\n",
       "      <td>2024-07-30T14:00:00-07:00</td>\n",
       "      <td>74</td>\n",
       "      <td>56</td>\n",
       "      <td>11</td>\n",
       "      <td>230</td>\n",
       "      <td>11</td>\n",
       "      <td>0.0</td>\n",
       "      <td>1</td>\n",
       "    </tr>\n",
       "    <tr>\n",
       "      <th>172</th>\n",
       "      <td>Culver City</td>\n",
       "      <td>2024-07-30T15:00:00-07:00</td>\n",
       "      <td>73</td>\n",
       "      <td>57</td>\n",
       "      <td>11</td>\n",
       "      <td>230</td>\n",
       "      <td>11</td>\n",
       "      <td>0.0</td>\n",
       "      <td>1</td>\n",
       "    </tr>\n",
       "    <tr>\n",
       "      <th>...</th>\n",
       "      <td>...</td>\n",
       "      <td>...</td>\n",
       "      <td>...</td>\n",
       "      <td>...</td>\n",
       "      <td>...</td>\n",
       "      <td>...</td>\n",
       "      <td>...</td>\n",
       "      <td>...</td>\n",
       "      <td>...</td>\n",
       "    </tr>\n",
       "    <tr>\n",
       "      <th>331</th>\n",
       "      <td>Culver City</td>\n",
       "      <td>2024-08-06T06:00:00-07:00</td>\n",
       "      <td>66</td>\n",
       "      <td>77</td>\n",
       "      <td>2</td>\n",
       "      <td>90</td>\n",
       "      <td>90</td>\n",
       "      <td>NaN</td>\n",
       "      <td>3</td>\n",
       "    </tr>\n",
       "    <tr>\n",
       "      <th>332</th>\n",
       "      <td>Culver City</td>\n",
       "      <td>2024-08-06T07:00:00-07:00</td>\n",
       "      <td>67</td>\n",
       "      <td>76</td>\n",
       "      <td>2</td>\n",
       "      <td>90</td>\n",
       "      <td>90</td>\n",
       "      <td>NaN</td>\n",
       "      <td>3</td>\n",
       "    </tr>\n",
       "    <tr>\n",
       "      <th>333</th>\n",
       "      <td>Culver City</td>\n",
       "      <td>2024-08-06T08:00:00-07:00</td>\n",
       "      <td>69</td>\n",
       "      <td>74</td>\n",
       "      <td>2</td>\n",
       "      <td>170</td>\n",
       "      <td>90</td>\n",
       "      <td>NaN</td>\n",
       "      <td>3</td>\n",
       "    </tr>\n",
       "    <tr>\n",
       "      <th>334</th>\n",
       "      <td>Culver City</td>\n",
       "      <td>2024-08-06T09:00:00-07:00</td>\n",
       "      <td>73</td>\n",
       "      <td>70</td>\n",
       "      <td>2</td>\n",
       "      <td>170</td>\n",
       "      <td>90</td>\n",
       "      <td>NaN</td>\n",
       "      <td>3</td>\n",
       "    </tr>\n",
       "    <tr>\n",
       "      <th>335</th>\n",
       "      <td>Culver City</td>\n",
       "      <td>2024-08-06T10:00:00-07:00</td>\n",
       "      <td>77</td>\n",
       "      <td>65</td>\n",
       "      <td>2</td>\n",
       "      <td>170</td>\n",
       "      <td>90</td>\n",
       "      <td>NaN</td>\n",
       "      <td>3</td>\n",
       "    </tr>\n",
       "  </tbody>\n",
       "</table>\n",
       "<p>168 rows × 9 columns</p>\n",
       "</div>"
      ],
      "text/plain": [
       "        location                       time  temperature  humidity  \\\n",
       "168  Culver City  2024-07-30T11:00:00-07:00           73        57   \n",
       "169  Culver City  2024-07-30T12:00:00-07:00           74        56   \n",
       "170  Culver City  2024-07-30T13:00:00-07:00           74        56   \n",
       "171  Culver City  2024-07-30T14:00:00-07:00           74        56   \n",
       "172  Culver City  2024-07-30T15:00:00-07:00           73        57   \n",
       "..           ...                        ...          ...       ...   \n",
       "331  Culver City  2024-08-06T06:00:00-07:00           66        77   \n",
       "332  Culver City  2024-08-06T07:00:00-07:00           67        76   \n",
       "333  Culver City  2024-08-06T08:00:00-07:00           69        74   \n",
       "334  Culver City  2024-08-06T09:00:00-07:00           73        70   \n",
       "335  Culver City  2024-08-06T10:00:00-07:00           77        65   \n",
       "\n",
       "     wind_speed  wind_direction  cloud_cover  hourly_qpf  \\\n",
       "168           9             220           11         0.0   \n",
       "169           9             220           11         0.0   \n",
       "170           9             220           11         0.0   \n",
       "171          11             230           11         0.0   \n",
       "172          11             230           11         0.0   \n",
       "..          ...             ...          ...         ...   \n",
       "331           2              90           90         NaN   \n",
       "332           2              90           90         NaN   \n",
       "333           2             170           90         NaN   \n",
       "334           2             170           90         NaN   \n",
       "335           2             170           90         NaN   \n",
       "\n",
       "     probability_of_precipitation  \n",
       "168                             1  \n",
       "169                             1  \n",
       "170                             1  \n",
       "171                             1  \n",
       "172                             1  \n",
       "..                            ...  \n",
       "331                             3  \n",
       "332                             3  \n",
       "333                             3  \n",
       "334                             3  \n",
       "335                             3  \n",
       "\n",
       "[168 rows x 9 columns]"
      ]
     },
     "execution_count": 77,
     "metadata": {},
     "output_type": "execute_result"
    }
   ],
   "source": [
    "df.query('location == \"Culver City\"')"
   ]
  },
  {
   "cell_type": "code",
   "execution_count": 80,
   "id": "39a3ff82-a80d-4f7e-8091-640d54c3bcf3",
   "metadata": {},
   "outputs": [
    {
     "data": {
      "text/plain": [
       "array(['Santa Monica', 'Culver City', 'Pasadena', 'Irvine',\n",
       "       'Manhattan Beach', 'Downtown LA', 'Arcadia', 'Burbank', 'Torrance',\n",
       "       'Newport Beach', 'Malibu'], dtype=object)"
      ]
     },
     "execution_count": 80,
     "metadata": {},
     "output_type": "execute_result"
    }
   ],
   "source": [
    "df.location.unique()"
   ]
  },
  {
   "cell_type": "code",
   "execution_count": 81,
   "id": "c0afb308-e231-4647-9ee5-5dec53c65e6b",
   "metadata": {},
   "outputs": [
    {
     "ename": "SyntaxError",
     "evalue": "invalid syntax (466362938.py, line 5)",
     "output_type": "error",
     "traceback": [
      "\u001b[0;36m  Cell \u001b[0;32mIn[81], line 5\u001b[0;36m\u001b[0m\n\u001b[0;31m    <parameters applicable-location=\"point1\">\u001b[0m\n\u001b[0m    ^\u001b[0m\n\u001b[0;31mSyntaxError\u001b[0m\u001b[0;31m:\u001b[0m invalid syntax\n"
     ]
    }
   ],
   "source": [
    "['Santa Monica', 'Culver City', 'Pasadena', 'Irvine',\n",
    "       'Manhattan Beach', 'Downtown LA', 'Arcadia', 'Burbank', 'Torrance',\n",
    "       'Newport Beach', 'Malibu']\n",
    "\n",
    "['location', 'time', 'temperature', 'humidity', 'wind_speed',\n",
    "       'wind_direction', 'cloud_cover', 'hourly_qpf',\n",
    "       'probability_of_precipitation']\n",
    "\n",
    "<parameters applicable-location=\"point1\">\n",
    "<temperature type=\"hourly\" time-layout=\"k-p1h-n1-0\">\n",
    "...\n",
    "</temperature>\n",
    "<temperature type=\"dew point\" time-layout=\"k-p1h-n1-0\">\n",
    "...\n",
    "</temperature>\n",
    "<temperature type=\"heat index\" time-layout=\"k-p1h-n1-0\">\n",
    "...\n",
    "</temperature>\n",
    "<probability-of-precipitation type=\"floating\" units=\"percent\" time-layout=\"k-p1h-n1-0\">\n",
    "...\n",
    "</probability-of-precipitation>\n",
    "<wind-speed type=\"sustained\" time-layout=\"k-p1h-n1-0\">\n",
    "...\n",
    "</wind-speed>\n",
    "<wind-speed type=\"gust\" time-layout=\"k-p1h-n1-0\">\n",
    "...\n",
    "</wind-speed>\n",
    "<direction type=\"wind\" units=\"degrees true\" time-layout=\"k-p1h-n1-0\">\n",
    "...\n",
    "</direction>\n",
    "<cloud-amount type=\"total\" units=\"percent\" time-layout=\"k-p1h-n1-0\">\n",
    "...\n",
    "</cloud-amount>\n",
    "<humidity type=\"relative\" units=\"percent\" time-layout=\"k-p1h-n1-0\">\n",
    "...\n",
    "</humidity>\n",
    "<hourly-qpf type=\"floating\" units=\"inches\" time-layout=\"k-p1h-n1-0\">\n",
    "...\n",
    "</hourly-qpf>\n",
    "<weather time-layout=\"k-p1h-n1-0\">"
   ]
  },
  {
   "cell_type": "code",
   "execution_count": null,
   "id": "dd26c87a-c344-43f6-a81c-4f6d9f8a398c",
   "metadata": {},
   "outputs": [],
   "source": []
  },
  {
   "cell_type": "code",
   "execution_count": 23,
   "id": "1355ab1f-7ddc-4b81-8dee-07fe3e592e07",
   "metadata": {},
   "outputs": [],
   "source": []
  },
  {
   "cell_type": "code",
   "execution_count": null,
   "id": "9bab11c8-8e0c-4c82-9c30-8a437f0b2e46",
   "metadata": {},
   "outputs": [],
   "source": []
  },
  {
   "cell_type": "markdown",
   "id": "ec79ab44-bd41-4d9a-b0e9-c92f290c70ff",
   "metadata": {},
   "source": [
    "---"
   ]
  },
  {
   "cell_type": "markdown",
   "id": "9903885e-0173-4f30-b072-95d62d11c202",
   "metadata": {},
   "source": [
    "## Process"
   ]
  },
  {
   "cell_type": "markdown",
   "id": "5fc3a5bf-20db-4b2d-8503-bc9584a37fab",
   "metadata": {},
   "source": [
    "#### Clean dates, standardize categories, etc. "
   ]
  },
  {
   "cell_type": "code",
   "execution_count": null,
   "id": "a98e52a1-7861-440a-94c9-a25bc04361db",
   "metadata": {},
   "outputs": [],
   "source": []
  },
  {
   "cell_type": "code",
   "execution_count": null,
   "id": "8468e76e-b734-414e-aae9-c5d32779f4a1",
   "metadata": {},
   "outputs": [],
   "source": []
  },
  {
   "cell_type": "code",
   "execution_count": null,
   "id": "f5727015-354b-4004-8781-7159ff5247de",
   "metadata": {},
   "outputs": [],
   "source": []
  },
  {
   "cell_type": "markdown",
   "id": "b4a35803-8d14-4d55-8a4a-3767a0b9a8c5",
   "metadata": {},
   "source": [
    "---"
   ]
  },
  {
   "cell_type": "markdown",
   "id": "1e7ae03c-c6bf-46ae-a417-ebf155cadad2",
   "metadata": {},
   "source": [
    "## Aggregate"
   ]
  },
  {
   "cell_type": "markdown",
   "id": "aa31605f-50d3-4af6-8bf0-068f3fd9d313",
   "metadata": {},
   "source": [
    "#### Groupby state, etc."
   ]
  },
  {
   "cell_type": "code",
   "execution_count": null,
   "id": "592bf68d-f1e6-42ee-9674-6c5ab34a4873",
   "metadata": {},
   "outputs": [],
   "source": []
  },
  {
   "cell_type": "code",
   "execution_count": null,
   "id": "d07093e1-61c4-4227-b840-6c7114e8613d",
   "metadata": {},
   "outputs": [],
   "source": []
  },
  {
   "cell_type": "code",
   "execution_count": null,
   "id": "9030782f-e176-4269-81e8-7acdc2f173d6",
   "metadata": {},
   "outputs": [],
   "source": []
  },
  {
   "cell_type": "markdown",
   "id": "30f7cb97-2a35-4a5e-9624-8c165e1efd26",
   "metadata": {},
   "source": [
    "---"
   ]
  },
  {
   "cell_type": "markdown",
   "id": "21f6976f-f4e3-4576-a0f2-6953d50b71d8",
   "metadata": {},
   "source": [
    "## Charts"
   ]
  },
  {
   "cell_type": "markdown",
   "id": "ec1a5a25-780d-4832-8604-7873e13cec84",
   "metadata": {},
   "source": [
    "#### Save the chart"
   ]
  },
  {
   "cell_type": "code",
   "execution_count": null,
   "id": "22724e51-b02e-430e-8f48-3c1dc2c2d134",
   "metadata": {},
   "outputs": [],
   "source": [
    "chart.save(\"visuals/chart.png\")\n",
    "Image(filename=\"visuals/chart.png\")"
   ]
  },
  {
   "cell_type": "markdown",
   "id": "acc49717-a516-4fe1-af0d-e00476d86ff5",
   "metadata": {},
   "source": [
    "#### Make sure the chart is visible on Github"
   ]
  },
  {
   "cell_type": "code",
   "execution_count": null,
   "id": "e0f4bbf1-3b58-4eaf-b6d9-fc467d9d77b8",
   "metadata": {},
   "outputs": [],
   "source": [
    "Image(filename=\"visuals/chart.png\")"
   ]
  },
  {
   "cell_type": "code",
   "execution_count": null,
   "id": "fb63ceb7-6730-4da0-8e40-46a2e88c00c6",
   "metadata": {},
   "outputs": [],
   "source": []
  },
  {
   "cell_type": "code",
   "execution_count": null,
   "id": "fda887a5-62bb-4daa-8e1a-be4e881d917a",
   "metadata": {},
   "outputs": [],
   "source": []
  },
  {
   "cell_type": "markdown",
   "id": "1e973165-2b14-465f-ad32-55a5a09f0b63",
   "metadata": {},
   "source": [
    "---"
   ]
  },
  {
   "cell_type": "markdown",
   "id": "45e45b17-c695-4c47-a622-8063dec8e673",
   "metadata": {},
   "source": [
    "## Metadata"
   ]
  },
  {
   "cell_type": "markdown",
   "id": "600cabef-c82b-498a-87f6-3c286f747049",
   "metadata": {},
   "source": [
    "#### Data provenance, column descriptions, etc."
   ]
  },
  {
   "cell_type": "code",
   "execution_count": null,
   "id": "7a62720f-67c7-4786-9081-1ed1a10f520e",
   "metadata": {},
   "outputs": [],
   "source": []
  },
  {
   "cell_type": "code",
   "execution_count": null,
   "id": "25413f3f-45e1-4d41-b219-f148212b2271",
   "metadata": {},
   "outputs": [],
   "source": []
  },
  {
   "cell_type": "code",
   "execution_count": null,
   "id": "642328fd-32d1-4f59-b3e9-d061f7dd3d38",
   "metadata": {},
   "outputs": [],
   "source": []
  },
  {
   "cell_type": "markdown",
   "id": "8575f3c0-5cac-4265-8e5c-9c72b135b43f",
   "metadata": {},
   "source": [
    "---"
   ]
  },
  {
   "cell_type": "markdown",
   "id": "2cedc251-d7e6-4134-9793-72ce4d5a62f4",
   "metadata": {},
   "source": [
    "## Exports"
   ]
  },
  {
   "cell_type": "markdown",
   "id": "d0f77d9e-5f69-4a87-be53-b643029b9c4c",
   "metadata": {},
   "source": [
    "#### XyXy subset in CSV format to `processed`"
   ]
  },
  {
   "cell_type": "code",
   "execution_count": null,
   "id": "e84208b5-e99e-4a3a-96a3-3325eeea9b96",
   "metadata": {},
   "outputs": [],
   "source": []
  },
  {
   "cell_type": "markdown",
   "id": "830d1f22-c971-4ad4-ae2c-9a1d2c2e4e27",
   "metadata": {},
   "source": [
    "#### JSON, GeoJSON, etc., to `processed`"
   ]
  },
  {
   "cell_type": "code",
   "execution_count": null,
   "id": "781b20f3-378f-4c21-9fbb-801ed39978da",
   "metadata": {},
   "outputs": [],
   "source": []
  }
 ],
 "metadata": {
  "kernelspec": {
   "display_name": "Python 3 (ipykernel)",
   "language": "python",
   "name": "python3"
  },
  "language_info": {
   "codemirror_mode": {
    "name": "ipython",
    "version": 3
   },
   "file_extension": ".py",
   "mimetype": "text/x-python",
   "name": "python",
   "nbconvert_exporter": "python",
   "pygments_lexer": "ipython3",
   "version": "3.9.15"
  }
 },
 "nbformat": 4,
 "nbformat_minor": 5
}
