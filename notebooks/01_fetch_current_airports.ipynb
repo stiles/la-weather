{
 "cells": [
  {
   "cell_type": "markdown",
   "id": "77ab12ec-6a2c-4fd8-8b1a-45b8e69448cb",
   "metadata": {},
   "source": [
    "# Current conditions at LA-area airports\n",
    "> This notebook fetches and processes JSON for numerous airports, reads it as a Pandas dataframe and stores it locally and on S3. "
   ]
  },
  {
   "cell_type": "markdown",
   "id": "277c96d0-48d1-4944-8f3d-369979dbae0c",
   "metadata": {},
   "source": [
    "---"
   ]
  },
  {
   "cell_type": "markdown",
   "id": "b26f152f-1b2c-4231-9752-4ecbe64c4e6a",
   "metadata": {},
   "source": [
    "#### Import Python tools and Jupyter config"
   ]
  },
  {
   "cell_type": "code",
   "execution_count": 1,
   "id": "27cdbea4-067e-40fe-8a0e-52d79145a835",
   "metadata": {},
   "outputs": [],
   "source": [
    "import os\n",
    "import json\n",
    "import tqdm\n",
    "import boto3\n",
    "import requests\n",
    "import pandas as pd\n",
    "import jupyter_black\n",
    "from pathlib import Path"
   ]
  },
  {
   "cell_type": "code",
   "execution_count": 2,
   "id": "313d32e2-e698-465b-bdf8-5c43c3687ccd",
   "metadata": {
    "tags": []
   },
   "outputs": [
    {
     "data": {
      "text/html": [
       "\n",
       "                <script type=\"application/javascript\" id=\"jupyter_black\">\n",
       "                (function() {\n",
       "                    if (window.IPython === undefined) {\n",
       "                        return\n",
       "                    }\n",
       "                    var msg = \"WARNING: it looks like you might have loaded \" +\n",
       "                        \"jupyter_black in a non-lab notebook with \" +\n",
       "                        \"`is_lab=True`. Please double check, and if \" +\n",
       "                        \"loading with `%load_ext` please review the README!\"\n",
       "                    console.log(msg)\n",
       "                    alert(msg)\n",
       "                })()\n",
       "                </script>\n",
       "                "
      ],
      "text/plain": [
       "<IPython.core.display.HTML object>"
      ]
     },
     "metadata": {},
     "output_type": "display_data"
    }
   ],
   "source": [
    "jupyter_black.load()\n",
    "pd.options.display.max_columns = 200\n",
    "pd.options.display.max_rows = 100\n",
    "pd.options.display.max_colwidth = None\n",
    "pd.set_option(\"display.max_columns\", None)"
   ]
  },
  {
   "cell_type": "code",
   "execution_count": 3,
   "id": "e51f1043-50cc-4d43-92e2-8ac6fe768643",
   "metadata": {
    "tags": []
   },
   "outputs": [],
   "source": [
    "# Determine the absolute paths for input and output files\n",
    "BASE = Path.cwd()\n",
    "JSON_OUT = BASE / \"../data/processed/latest_conditions_airports.json\"\n",
    "CSV_OUT = BASE / \"../data/processed/latest_conditions_airports.csv\""
   ]
  },
  {
   "cell_type": "code",
   "execution_count": 4,
   "id": "a9a63131-de2f-4c36-aab2-b60e816fc36d",
   "metadata": {},
   "outputs": [],
   "source": [
    "# Load locations from the config file\n",
    "with open(\"../data/reference/airports.json\", \"r\") as f:\n",
    "    airports = json.load(f)"
   ]
  },
  {
   "cell_type": "code",
   "execution_count": 5,
   "id": "dd7dbcce-7474-4d22-b444-528315bc738f",
   "metadata": {},
   "outputs": [],
   "source": [
    "base_url = \"https://aviationweather.gov/api/data/metar?ids={}&format=json\""
   ]
  },
  {
   "cell_type": "code",
   "execution_count": 6,
   "id": "a83d612d-875d-4f7f-9523-5529c00f6773",
   "metadata": {},
   "outputs": [],
   "source": [
    "dfs = []\n",
    "\n",
    "for airport, station in airports.items():\n",
    "    response = requests.get(base_url.format(station))\n",
    "    src = pd.DataFrame(response.json()).dropna(axis=1).assign(airport=airport)\n",
    "    src[\"cloud_cover\"] = src[\"clouds\"].apply(lambda x: x[0][\"cover\"] if x else None)\n",
    "    dfs.append(src)"
   ]
  },
  {
   "cell_type": "code",
   "execution_count": 7,
   "id": "c94b3637-7f97-4a51-b6d8-3068c9a843ba",
   "metadata": {},
   "outputs": [],
   "source": [
    "cols = [\n",
    "    \"icaoId\",\n",
    "    \"airport\",\n",
    "    \"reportTime\",\n",
    "    \"temp\",\n",
    "    \"dewp\",\n",
    "    \"wdir\",\n",
    "    \"wspd\",\n",
    "    \"visib\",\n",
    "    \"cloud_cover\",\n",
    "    \"lat\",\n",
    "    \"lon\",\n",
    "]"
   ]
  },
  {
   "cell_type": "code",
   "execution_count": 8,
   "id": "d28323a4-2304-44cf-b846-35727d19b05d",
   "metadata": {},
   "outputs": [],
   "source": [
    "src_df = pd.concat(dfs)[cols]"
   ]
  },
  {
   "cell_type": "code",
   "execution_count": 9,
   "id": "3a99def3-e667-4129-880a-abf1abae812d",
   "metadata": {},
   "outputs": [],
   "source": [
    "src_df[\"temperature\"] = ((src_df[\"temp\"] * 9 / 5) + 32).round().astype(int)\n",
    "src_df[\"dewpoint\"] = ((src_df[\"dewp\"] * 9 / 5) + 32).round().astype(int)"
   ]
  },
  {
   "cell_type": "code",
   "execution_count": 10,
   "id": "ab07555a-3043-4f81-b27d-7134ca444594",
   "metadata": {},
   "outputs": [],
   "source": [
    "# Compass dictionary for windspeed\n",
    "compass = {\n",
    "    range(349, 361): \"N\",  # 361 to include 360\n",
    "    range(0, 11): \"N\",\n",
    "    range(11, 34): \"NNE\",\n",
    "    range(34, 56): \"NE\",\n",
    "    range(56, 79): \"ENE\",\n",
    "    range(79, 101): \"E\",\n",
    "    range(101, 124): \"ESE\",\n",
    "    range(124, 146): \"SE\",\n",
    "    range(146, 169): \"SSE\",\n",
    "    range(169, 191): \"S\",\n",
    "    range(191, 214): \"SSW\",\n",
    "    range(214, 236): \"SW\",\n",
    "    range(236, 259): \"WSW\",\n",
    "    range(259, 281): \"W\",\n",
    "    range(281, 304): \"WNW\",\n",
    "    range(304, 326): \"NW\",\n",
    "    range(326, 349): \"NNW\",\n",
    "}\n",
    "\n",
    "\n",
    "# Function to map degrees to direction\n",
    "def wind_direction_to_compass(degrees):\n",
    "    for k, v in compass.items():\n",
    "        if degrees in k:\n",
    "            return v\n",
    "    return None\n",
    "\n",
    "\n",
    "# Apply the function to the DataFrame\n",
    "src_df[\"wind_direction\"] = src_df[\"wdir\"].apply(wind_direction_to_compass)"
   ]
  },
  {
   "cell_type": "code",
   "execution_count": 11,
   "id": "841bff38-614c-4fb3-9904-1c85ca6b2725",
   "metadata": {},
   "outputs": [],
   "source": [
    "df = (\n",
    "    src_df[\n",
    "        [\n",
    "            \"icaoId\",\n",
    "            \"airport\",\n",
    "            \"reportTime\",\n",
    "            \"temperature\",\n",
    "            \"dewpoint\",\n",
    "            \"wind_direction\",\n",
    "            \"wspd\",\n",
    "            \"visib\",\n",
    "            \"cloud_cover\",\n",
    "            \"lat\",\n",
    "            \"lon\",\n",
    "        ]\n",
    "    ]\n",
    "    .rename(\n",
    "        columns={\n",
    "            \"icaoId\": \"icao_id\",\n",
    "            \"reportTime\": \"reported\",\n",
    "            \"wspd\": \"wind_speed\",\n",
    "            \"visib\": \"visibility\",\n",
    "            \"lat\": \"latitude\",\n",
    "            \"lon\": \"longitude\",\n",
    "        }\n",
    "    )\n",
    "    .copy()\n",
    ")"
   ]
  },
  {
   "cell_type": "code",
   "execution_count": 12,
   "id": "02128d84-1727-4f02-a876-a9325d2f00b0",
   "metadata": {},
   "outputs": [],
   "source": [
    "df.to_csv(CSV_OUT, index=False)\n",
    "df.to_json(JSON_OUT, indent=4, orient=\"records\")"
   ]
  },
  {
   "cell_type": "code",
   "execution_count": 13,
   "id": "cd2a94de-88b0-4892-85e6-49e3705d4e4d",
   "metadata": {},
   "outputs": [],
   "source": [
    "# S3"
   ]
  },
  {
   "cell_type": "code",
   "execution_count": null,
   "id": "d0d30967-686f-40af-8277-c1e9928c2c70",
   "metadata": {},
   "outputs": [],
   "source": [
    "# Paths for S3 storage\n",
    "S3_BUCKET = \"stilesdata.com\"\n",
    "S3_CSV_KEY = f\"weather/latest_conditions_airports.csv\"\n",
    "S3_JSON_KEY = f\"weather/latest_conditions_airports.json\"\n",
    "\n",
    "# Initialize boto3 client with environment variables\n",
    "s3_client = boto3.client(\n",
    "    \"s3\",\n",
    "    aws_access_key_id=os.getenv(\"MY_AWS_ACCESS_KEY_ID\"),\n",
    "    aws_secret_access_key=os.getenv(\"MY_AWS_SECRET_ACCESS_KEY\"),\n",
    "    aws_session_token=os.getenv(\"MY_AWS_SESSION_TOKEN\"),\n",
    ")\n",
    "\n",
    "# Upload the CSV file to S3\n",
    "s3_client.upload_file(str(CSV_OUT), S3_BUCKET, S3_CSV_KEY)\n",
    "print(f\"CSV file uploaded to s3://{S3_BUCKET}/{S3_CSV_KEY}\")\n",
    "\n",
    "# Upload the JSON file\n",
    "s3_client.upload_file(str(JSON_OUT), S3_BUCKET, S3_JSON_KEY)\n",
    "print(f\"JSON file uploaded to s3://{S3_BUCKET}/{S3_JSON_KEY}\")"
   ]
  },
  {
   "cell_type": "code",
   "execution_count": 15,
   "id": "ff311d95-ea77-4713-8d7c-2bfa33dada5f",
   "metadata": {},
   "outputs": [
    {
     "name": "stdout",
     "output_type": "stream",
     "text": [
      "[NbConvertApp] Converting notebook 01_fetch_current_airports.ipynb to script\n",
      "[NbConvertApp] Writing 3982 bytes to ../scripts/fetch_current_airports.py\n"
     ]
    }
   ],
   "source": [
    "# !jupyter nbconvert --to script --no-prompt --output ../scripts/fetch_current_airports 01_fetch_current_airports.ipynb"
   ]
  }
 ],
 "metadata": {
  "kernelspec": {
   "display_name": "Python 3 (ipykernel)",
   "language": "python",
   "name": "python3"
  },
  "language_info": {
   "codemirror_mode": {
    "name": "ipython",
    "version": 3
   },
   "file_extension": ".py",
   "mimetype": "text/x-python",
   "name": "python",
   "nbconvert_exporter": "python",
   "pygments_lexer": "ipython3",
   "version": "3.9.15"
  }
 },
 "nbformat": 4,
 "nbformat_minor": 5
}
